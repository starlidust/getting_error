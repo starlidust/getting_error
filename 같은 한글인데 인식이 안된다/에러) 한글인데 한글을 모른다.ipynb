{
 "cells": [
  {
   "cell_type": "markdown",
   "metadata": {},
   "source": [
    "### 같은단어 다른단어\n",
    "유니코드로 해결 https://enkoding.tistory.com/27\n",
    "* b,c는 표면상 같은 단어이나, 인코딩방식이 다름\n",
    "* 정확한 원인은 아직 확인 못함\n",
    "* unicodedata로 같은 포맷방식으로 유니코드로 변환\n",
    "* mac에서도 가끔 발생하는 문제인듯 https://lee-seul.github.io/python/2019/04/01/max-os-korean-character-issue.html\n"
   ]
  },
  {
   "cell_type": "code",
   "execution_count": 37,
   "metadata": {
    "ExecuteTime": {
     "end_time": "2021-01-20T07:02:24.374793Z",
     "start_time": "2021-01-20T07:02:24.367792Z"
    }
   },
   "outputs": [
    {
     "data": {
      "text/html": [
       "<div>\n",
       "<style scoped>\n",
       "    .dataframe tbody tr th:only-of-type {\n",
       "        vertical-align: middle;\n",
       "    }\n",
       "\n",
       "    .dataframe tbody tr th {\n",
       "        vertical-align: top;\n",
       "    }\n",
       "\n",
       "    .dataframe thead th {\n",
       "        text-align: right;\n",
       "    }\n",
       "</style>\n",
       "<table border=\"1\" class=\"dataframe\">\n",
       "  <thead>\n",
       "    <tr style=\"text-align: right;\">\n",
       "      <th></th>\n",
       "      <th>0</th>\n",
       "    </tr>\n",
       "  </thead>\n",
       "  <tbody>\n",
       "    <tr>\n",
       "      <th>0</th>\n",
       "      <td>풀빌라</td>\n",
       "    </tr>\n",
       "    <tr>\n",
       "      <th>1</th>\n",
       "      <td>풀빌라</td>\n",
       "    </tr>\n",
       "  </tbody>\n",
       "</table>\n",
       "</div>"
      ],
      "text/plain": [
       "          0\n",
       "0       풀빌라\n",
       "1  풀빌라"
      ]
     },
     "execution_count": 37,
     "metadata": {},
     "output_type": "execute_result"
    }
   ],
   "source": [
    "import pandas as pd\n",
    "df = pd.read_csv('인코딩에러.csv')\n",
    "df"
   ]
  },
  {
   "cell_type": "code",
   "execution_count": 10,
   "metadata": {
    "ExecuteTime": {
     "end_time": "2021-01-20T06:49:50.238786Z",
     "start_time": "2021-01-20T06:49:50.236785Z"
    }
   },
   "outputs": [],
   "source": [
    "b = df.iloc[0,0]\n",
    "c = df.iloc[1,0]"
   ]
  },
  {
   "cell_type": "code",
   "execution_count": 12,
   "metadata": {
    "ExecuteTime": {
     "end_time": "2021-01-20T06:49:57.997464Z",
     "start_time": "2021-01-20T06:49:57.993463Z"
    }
   },
   "outputs": [
    {
     "data": {
      "text/plain": [
       "False"
      ]
     },
     "execution_count": 12,
     "metadata": {},
     "output_type": "execute_result"
    }
   ],
   "source": [
    "#두 글자가 다르다\n",
    "b == c"
   ]
  },
  {
   "cell_type": "code",
   "execution_count": 38,
   "metadata": {
    "ExecuteTime": {
     "end_time": "2021-01-20T07:02:41.588193Z",
     "start_time": "2021-01-20T07:02:41.503174Z"
    }
   },
   "outputs": [
    {
     "data": {
      "text/plain": [
       "Text(0.5, 1.0, \"['풀빌라', '풀빌라']\")"
      ]
     },
     "execution_count": 38,
     "metadata": {},
     "output_type": "execute_result"
    },
    {
     "data": {
      "image/png": "[encoded data removed]",
      "text/plain": [
       "<Figure size 72x72 with 1 Axes>"
      ]
     },
     "metadata": {
      "needs_background": "light"
     },
     "output_type": "display_data"
    }
   ],
   "source": [
    "#시각화하면 깨진다!\n",
    "plt.figure(figsize=(1,1))\n",
    "plt.plot()\n",
    "plt.title([b,c])"
   ]
  },
  {
   "cell_type": "code",
   "execution_count": 39,
   "metadata": {
    "ExecuteTime": {
     "end_time": "2021-01-20T07:02:47.290198Z",
     "start_time": "2021-01-20T07:02:47.287197Z"
    }
   },
   "outputs": [],
   "source": [
    "import unicodedata\n",
    "b1 = unicodedata.normalize('NFD',b)\n",
    "b2 = unicodedata.normalize('NFC',b)\n",
    "c1 = unicodedata.normalize('NFD',c)\n",
    "c2 = unicodedata.normalize('NFC',c)"
   ]
  },
  {
   "cell_type": "code",
   "execution_count": 36,
   "metadata": {
    "ExecuteTime": {
     "end_time": "2021-01-20T07:02:09.876890Z",
     "start_time": "2021-01-20T07:02:09.872890Z"
    }
   },
   "outputs": [
    {
     "name": "stdout",
     "output_type": "stream",
     "text": [
      "c1,b1비교 True\n",
      "c2,b2비교 True\n",
      "c,b1비교 True\n",
      "c2,b비교 True\n"
     ]
    }
   ],
   "source": [
    "#같은 방식으로 포맷한건 같다\n",
    "#b가 c2('NFC')방식 c가 b1('NFD')방식으로 포맷되어있던것으로 추정\n",
    "print('c1,b1비교', c1 == b1)\n",
    "print('c2,b2비교', c1 == b1)\n",
    "print('c,b1비교', c == b1)\n",
    "print('c2,b비교', c2 == b)"
   ]
  }
 ],
 "metadata": {
  "kernelspec": {
   "display_name": "Python 3",
   "language": "python",
   "name": "python3"
  },
  "language_info": {
   "codemirror_mode": {
    "name": "ipython",
    "version": 3
   },
   "file_extension": ".py",
   "mimetype": "text/x-python",
   "name": "python",
   "nbconvert_exporter": "python",
   "pygments_lexer": "ipython3",
   "version": "3.6.5"
  },
  "toc": {
   "base_numbering": 1,
   "nav_menu": {},
   "number_sections": true,
   "sideBar": true,
   "skip_h1_title": false,
   "title_cell": "Table of Contents",
   "title_sidebar": "Contents",
   "toc_cell": false,
   "toc_position": {},
   "toc_section_display": true,
   "toc_window_display": false
  },
  "varInspector": {
   "cols": {
    "lenName": 16,
    "lenType": 16,
    "lenVar": 40
   },
   "kernels_config": {
    "python": {
     "delete_cmd_postfix": "",
     "delete_cmd_prefix": "del ",
     "library": "var_list.py",
     "varRefreshCmd": "print(var_dic_list())"
    },
    "r": {
     "delete_cmd_postfix": ") ",
     "delete_cmd_prefix": "rm(",
     "library": "var_list.r",
     "varRefreshCmd": "cat(var_dic_list()) "
    }
   },
   "types_to_exclude": [
    "module",
    "function",
    "builtin_function_or_method",
    "instance",
    "_Feature"
   ],
   "window_display": false
  }
 },
 "nbformat": 4,
 "nbformat_minor": 2
}
